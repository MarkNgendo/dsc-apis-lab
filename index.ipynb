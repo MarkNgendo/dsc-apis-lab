{
 "cells": [
  {
   "cell_type": "markdown",
   "metadata": {},
   "source": [
    "# APIs - Cumulative Lab\n",
    "\n",
    "\n",
    "## Introduction \n",
    "\n",
    "We've seen how the Yelp API works and how to create basic visualizations using Folium. It's time to put those skills to work in order to create a working map! Taking things a step further, you'll also independently explore how to perform pagination in order to retrieve a full results set from the Yelp API.\n",
    "\n",
    "## Objectives\n",
    "\n",
    "You will be able to: \n",
    "\n",
    "* Practice using functions to organize your code\n",
    "* Use pagination to retrieve all results from an API query\n",
    "* Practice parsing data returned from an API query\n",
    "* Practice interpreting visualizations of a dataset\n",
    "* Create maps using Folium"
   ]
  },
  {
   "cell_type": "markdown",
   "metadata": {},
   "source": [
    "## Your Task: Query Yelp for All Businesses in a Category and Analyze the Results\n",
    "\n",
    "![restaurant counter with pizza](images/restaurant_counter.jpg)\n",
    "\n",
    "Photo by <a href=\"https://unsplash.com/@jordanmadrid?utm_source=unsplash&utm_medium=referral&utm_content=creditCopyText\">Jordan Madrid</a> on <a href=\"/s/photos/pizza-restaurant?utm_source=unsplash&utm_medium=referral&utm_content=creditCopyText\">Unsplash</a>"
   ]
  },
  {
   "cell_type": "markdown",
   "metadata": {},
   "source": [
    "### Overview\n",
    "\n",
    "You've now worked with some API calls, but we have yet to see how to retrieve a more complete dataset in a programmatic manner. In this lab, you will write a query of businesses on Yelp, then use *pagination* to retrieve all possible results for that query. Then you will create a summary of your findings, including a Folium map of the geographic locations of those businesses.\n",
    "\n",
    "### Technical Details\n",
    "\n",
    "Returning to the Yelp API, the [documentation](https://www.yelp.com/developers/documentation/v3/business_search) also provides us details regarding the **API limits**. These often include details about the number of requests a user is allowed to make within a specified time limit and the maximum number of results to be returned. In this case, we are told that any request has a **maximum of 50 results per request** and defaults to 20. Furthermore, any search will be limited to a **total of 1000 results**. To retrieve all 1000 of these results, we would have to page through the results piece by piece, retrieving 50 at a time. Processes such as these are often referred to as pagination.\n",
    "\n",
    "Also, be mindful of the **API** ***rate*** **limits**. You can only make **5000 requests per day** and are also can make requests too fast. Start prototyping small before running a loop that could be faulty. You can also use `time.sleep(n)` to add delays. For more details see https://www.yelp.com/developers/documentation/v3/rate_limiting.\n",
    "\n",
    "In this lab, you will define a search and then paginate over the results to retrieve all of the results. You'll then parse these responses as a list of dictionaries (for further exploration) and create a map using Folium to visualize the results geographically.\n",
    "\n",
    "### Requirements\n",
    "\n",
    "#### 1. Make the Initial Request\n",
    "\n",
    "Start by filling in your API key to make the initial request to the business search API. Investigate the structure of the response you get back and start figuring out how you will extract the relevant information.\n",
    "\n",
    "#### 2. Add Pagination\n",
    "\n",
    "Using loops and functions, collect the maximum number of results for your query from the API.\n",
    "\n",
    "#### 3. Perform Exploratory Analysis\n",
    "\n",
    "Interpret visualizations related to the price range, average rating, and number of reviews for all query results.\n",
    "\n",
    "#### 4. Create a Folium Map\n",
    "\n",
    "Using latitude and longitude data, plot the query results on an interactive map."
   ]
  },
  {
   "cell_type": "markdown",
   "metadata": {},
   "source": [
    "## 1. Make the Initial Request\n",
    "\n",
    "### Querying\n",
    "\n",
    "Start by making an initial request to the Yelp API. Your search must include at least 2 parameters: **term** and **location**. For example, you might search for pizza restaurants in NYC. The term and location is up to you but make the request below.\n",
    "\n",
    "Use the `requests` library ([documentation here](https://requests.readthedocs.io/en/master/user/quickstart/#make-a-request)).\n",
    "\n",
    "You'll also need an API key from Yelp. If you haven't done this already, go to the Yelp [Manage App page](https://www.yelp.com/developers/v3/manage_app) and create a new app (after making an account if you haven't already)."
   ]
  },
  {
   "cell_type": "code",
   "execution_count": 1,
   "metadata": {},
   "outputs": [
    {
     "data": {
      "text/plain": [
       "<Response [200]>"
      ]
     },
     "execution_count": 1,
     "metadata": {},
     "output_type": "execute_result"
    }
   ],
   "source": [
    "# Replace None with appropriate code\n",
    "\n",
    "# Import the requests library\n",
    "import requests\n",
    "\n",
    "# Get this from the \"Manage App\" page. Make sure you set them\n",
    "# back to None before pushing this to GitHub, since otherwise\n",
    "# your credentials will be compromised\n",
    "import json\n",
    "def get_keys(path):\n",
    "    with open(path) as f:\n",
    "        return json.load(f)\n",
    "\n",
    "api_key = get_keys(r\"C:/Users/markt/.secret/yelp_api.json\")['api_key']\n",
    "\n",
    "# These can be whatever you want! But the solution uses \"pizza\"\n",
    "# and \"New York NY\" if you want to compare your work directly\n",
    "term = 'pizza'\n",
    "location = 'California CA'\n",
    "\n",
    "# Set up params for request\n",
    "url = \"https://api.yelp.com/v3/businesses/search\"\n",
    "headers = {\n",
    "    \"Authorization\": \"Bearer {}\".format(api_key)\n",
    "}\n",
    "url_params = {\n",
    "    \"term\": term.replace(\" \", \"+\"),\n",
    "    \"location\": location.replace(\" \", \"+\")\n",
    "}\n",
    "\n",
    "# Make the request using requests.get, passing in\n",
    "# url, headers=headers, and params=url_params\n",
    "response = requests.get(url, headers=headers, params=url_params)\n",
    "\n",
    "# Confirm we got a 200 response\n",
    "response"
   ]
  },
  {
   "cell_type": "code",
   "execution_count": 2,
   "metadata": {},
   "outputs": [
    {
     "data": {
      "text/plain": [
       "dict_keys(['businesses', 'total', 'region'])"
      ]
     },
     "execution_count": 2,
     "metadata": {},
     "output_type": "execute_result"
    }
   ],
   "source": [
    "# Run this cell without changes\n",
    "\n",
    "# Get the response body in JSON format\n",
    "response_json = response.json()\n",
    "# View the keys\n",
    "response_json.keys()"
   ]
  },
  {
   "cell_type": "markdown",
   "metadata": {},
   "source": [
    "### Extracting Data\n",
    "\n",
    "Now, retrieve the value associated with the `'businesses'` key, and inspect its contents."
   ]
  },
  {
   "cell_type": "code",
   "execution_count": 3,
   "metadata": {},
   "outputs": [
    {
     "data": {
      "text/plain": [
       "[{'id': 'Vowoq0eFObqqYkdzQ-zBAQ',\n",
       "  'alias': 'shaver-lake-pizza-shaver-lake',\n",
       "  'name': 'Shaver Lake Pizza',\n",
       "  'image_url': 'https://s3-media1.fl.yelpcdn.com/bphoto/4ZluF9XYHlOybHgWJnSEwg/o.jpg',\n",
       "  'is_closed': False,\n",
       "  'url': 'https://www.yelp.com/biz/shaver-lake-pizza-shaver-lake?adjust_creative=zzl8CReWEsGI1GUvrxUt-A&utm_campaign=yelp_api_v3&utm_medium=api_v3_business_search&utm_source=zzl8CReWEsGI1GUvrxUt-A',\n",
       "  'review_count': 321,\n",
       "  'categories': [{'alias': 'pizza', 'title': 'Pizza'},\n",
       "   {'alias': 'chicken_wings', 'title': 'Chicken Wings'}],\n",
       "  'rating': 3.5,\n",
       "  'coordinates': {'latitude': 37.1074244, 'longitude': -119.3191947},\n",
       "  'transactions': [],\n",
       "  'price': '$',\n",
       "  'location': {'address1': '41820 Tollhouse Rd',\n",
       "   'address2': '',\n",
       "   'address3': '',\n",
       "   'city': 'Shaver Lake',\n",
       "   'zip_code': '93664',\n",
       "   'country': 'US',\n",
       "   'state': 'CA',\n",
       "   'display_address': ['41820 Tollhouse Rd', 'Shaver Lake, CA 93664']},\n",
       "  'phone': '+15598417249',\n",
       "  'display_phone': '(559) 841-7249',\n",
       "  'distance': 17759.41573918924},\n",
       " {'id': 'XTfXplZaOD3QTV0TmnEHyw',\n",
       "  'alias': 'pops-pizza-parlor-shaver-lake',\n",
       "  'name': \"Pop's Pizza Parlor\",\n",
       "  'image_url': 'https://s3-media4.fl.yelpcdn.com/bphoto/90Vj-HVP1_580WLvBAWREw/o.jpg',\n",
       "  'is_closed': False,\n",
       "  'url': 'https://www.yelp.com/biz/pops-pizza-parlor-shaver-lake?adjust_creative=zzl8CReWEsGI1GUvrxUt-A&utm_campaign=yelp_api_v3&utm_medium=api_v3_business_search&utm_source=zzl8CReWEsGI1GUvrxUt-A',\n",
       "  'review_count': 17,\n",
       "  'categories': [{'alias': 'pizza', 'title': 'Pizza'},\n",
       "   {'alias': 'gastropubs', 'title': 'Gastropubs'}],\n",
       "  'rating': 3.5,\n",
       "  'coordinates': {'latitude': 37.0993, 'longitude': -119.31831},\n",
       "  'transactions': [],\n",
       "  'location': {'address1': '41203 Tollhouse Rd',\n",
       "   'address2': None,\n",
       "   'address3': '',\n",
       "   'city': 'Shaver Lake',\n",
       "   'zip_code': '93664',\n",
       "   'country': 'US',\n",
       "   'state': 'CA',\n",
       "   'display_address': ['41203 Tollhouse Rd', 'Shaver Lake, CA 93664']},\n",
       "  'phone': '+15598413237',\n",
       "  'display_phone': '(559) 841-3237',\n",
       "  'distance': 18645.130646946323}]"
      ]
     },
     "execution_count": 3,
     "metadata": {},
     "output_type": "execute_result"
    }
   ],
   "source": [
    "# Replace None with appropriate code\n",
    "\n",
    "# Retrieve the value from response_json\n",
    "businesses = response_json['businesses']\n",
    "\n",
    "# View the first 2 records\n",
    "businesses[:2]"
   ]
  },
  {
   "cell_type": "markdown",
   "metadata": {},
   "source": [
    "### Preparing Data\n",
    "\n",
    "Write a function `prepare_data` that takes in a list of dictionaries like `businesses` and returns a copy that has been prepared for analysis:\n",
    "\n",
    "1. The `coordinates` key-value pair has been converted into two separate key-value pairs, `latitude` and `longitude`\n",
    "2. All other key-value pairs except for `name`, `review_count`, `rating`, and `price` have been dropped\n",
    "3. All dictionaries missing one of the relevant keys or containing null values have been dropped\n",
    "\n",
    "In other words, the final keys for each dictionary should be `name`, `review_count`, `rating`, `price`, `latitude`, and `longitude`.\n",
    "\n",
    "Complete the function in the cell below:"
   ]
  },
  {
   "cell_type": "code",
   "execution_count": 4,
   "metadata": {},
   "outputs": [
    {
     "data": {
      "text/plain": [
       "[{'name': 'Shaver Lake Pizza',\n",
       "  'review_count': 321,\n",
       "  'rating': 3.5,\n",
       "  'price': '$',\n",
       "  'latitude': 37.1074244,\n",
       "  'longitude': -119.3191947},\n",
       " {'name': 'Pines Village Bakery-Pizzeria',\n",
       "  'review_count': 59,\n",
       "  'rating': 3.0,\n",
       "  'price': '$$$',\n",
       "  'latitude': 37.31998,\n",
       "  'longitude': -119.55725},\n",
       " {'name': \"John's Pizza Works\",\n",
       "  'review_count': 800,\n",
       "  'rating': 4.0,\n",
       "  'price': '$$',\n",
       "  'latitude': 37.64826,\n",
       "  'longitude': -118.97433},\n",
       " {'name': \"Giovanni's\",\n",
       "  'review_count': 840,\n",
       "  'rating': 4.0,\n",
       "  'price': '$$',\n",
       "  'latitude': 37.639686,\n",
       "  'longitude': -118.9642867},\n",
       " {'name': 'Pizza Factory',\n",
       "  'review_count': 30,\n",
       "  'rating': 3.5,\n",
       "  'price': '$$',\n",
       "  'latitude': 37.23038433837862,\n",
       "  'longitude': -119.5098629}]"
      ]
     },
     "execution_count": 4,
     "metadata": {},
     "output_type": "execute_result"
    }
   ],
   "source": [
    "# Replace None with appropriate code\n",
    "\n",
    "def prepare_data(data_list):\n",
    "    \"\"\"\n",
    "    This function takes in a list of dictionaries and prepares it\n",
    "    for analysis\n",
    "    \"\"\"\n",
    "    \n",
    "    # Make a new list to hold results\n",
    "    results = []\n",
    "    \n",
    "    for business_data in data_list:\n",
    "    \n",
    "        # Make a new dictionary to hold prepared data for this business\n",
    "        prepared_data = {}\n",
    "        \n",
    "        # Extract name, review_count, rating, and price key-value pairs\n",
    "        # from business_data and add to prepared_data\n",
    "        # If a key is not present in business_data, add it to prepared_data\n",
    "        # with an associated value of None\n",
    "        prepared_data['name'] = business_data.get('name', None)\n",
    "        prepared_data['review_count'] = business_data.get('review_count', None)\n",
    "        prepared_data['rating'] = business_data.get('rating', None)\n",
    "        prepared_data['price'] = business_data.get('price', None)\n",
    "    \n",
    "        # Parse and add latitude and longitude columns\n",
    "        prepared_data['latitude'] = business_data['coordinates']['latitude']\n",
    "        prepared_data['longitude'] = business_data['coordinates']['longitude']\n",
    "        \n",
    "        # Add to list if all values are present\n",
    "        if all(prepared_data.values()):\n",
    "            results.append(prepared_data)\n",
    "    \n",
    "    return results\n",
    "    \n",
    "# Test out function\n",
    "prepared_businesses = prepare_data(businesses)\n",
    "prepared_businesses[:5]"
   ]
  },
  {
   "cell_type": "markdown",
   "metadata": {},
   "source": [
    "Check that your function created the correct keys:"
   ]
  },
  {
   "cell_type": "code",
   "execution_count": 5,
   "metadata": {},
   "outputs": [],
   "source": [
    "# Run this cell without changes\n",
    "\n",
    "assert sorted(list(prepared_businesses[0].keys())) == ['latitude', 'longitude', 'name', 'price', 'rating', 'review_count']"
   ]
  },
  {
   "cell_type": "markdown",
   "metadata": {},
   "source": [
    "The following code will differ depending on your query, but we expect there to be 20 businesses in the original list, and potentially fewer in the prepared list (if any of them were missing data):"
   ]
  },
  {
   "cell_type": "code",
   "execution_count": 6,
   "metadata": {},
   "outputs": [
    {
     "name": "stdout",
     "output_type": "stream",
     "text": [
      "Original: 20\n",
      "Prepared: 18\n"
     ]
    }
   ],
   "source": [
    "# Run this cell without changes\n",
    "print(\"Original:\", len(businesses))\n",
    "print(\"Prepared:\", len(prepared_businesses))"
   ]
  },
  {
   "cell_type": "markdown",
   "metadata": {},
   "source": [
    "Great! We will reuse this function once we have retrieved the full dataset."
   ]
  },
  {
   "cell_type": "markdown",
   "metadata": {},
   "source": [
    "## 2. Add Pagination\n",
    "\n",
    "Now that you are able to extract information from one page of the response, let's figure out how to request as many pages as possible.\n",
    "\n",
    "### Determining the Total\n",
    "\n",
    "Depending on the number of total results for your query, you will either retrieve all of the results, or just the first 1000 (if there are more than 1000 total).\n",
    "\n",
    "We can find the total number of results using the `\"total\"` key:"
   ]
  },
  {
   "cell_type": "code",
   "execution_count": 7,
   "metadata": {},
   "outputs": [
    {
     "data": {
      "text/plain": [
       "580"
      ]
     },
     "execution_count": 7,
     "metadata": {},
     "output_type": "execute_result"
    }
   ],
   "source": [
    "# Run this cell without changes\n",
    "response_json[\"total\"]"
   ]
  },
  {
   "cell_type": "markdown",
   "metadata": {},
   "source": [
    "(This is specific to the implementation of the Yelp API. Some APIs will just tell you that there are more pages, or will tell you the number of pages total, rather than the total number of results. If you're not sure, always check the documentation.)\n",
    "\n",
    "In the cell below, assign the variable `total` to either the value shown above (if it is less than 1000), or 1000."
   ]
  },
  {
   "cell_type": "code",
   "execution_count": 8,
   "metadata": {},
   "outputs": [],
   "source": [
    "# Replace None with appropriate code\n",
    "total = 580"
   ]
  },
  {
   "cell_type": "markdown",
   "metadata": {},
   "source": [
    "### Calculating the Offsets\n",
    "\n",
    "The documentation states in the parameters section:\n",
    "\n",
    "> **Name**: `limit`, **Type:** int, **Description:** Optional. Number of business results to return. By default, it will return 20. Maximum is 50.\n",
    "\n",
    "> **Name**: `offset`, **Type:** int, **Description:** Optional. Offset the list of returned business results by this amount.\n",
    "\n",
    "So, to get the most results with the fewest API calls we want to set a limit of 50 every time. If, say, we wanted to get 210 total results, that would mean:\n",
    "\n",
    "1. Offset of `0` (first 50 records)\n",
    "2. Offset of `50` (second 50 records)\n",
    "3. Offset of `100` (third 50 records)\n",
    "4. Offset of `150` (fourth 50 records)\n",
    "5. Offset of `200` (final 10 records)\n",
    "\n",
    "In the cell below, create a function `get_offsets` that takes in a total and returns a list of offsets for that total. You can assume that there is a limit of 50 every time.\n",
    "\n",
    "*Hint: you can use `range` ([documentation here](https://docs.python.org/3.3/library/stdtypes.html?highlight=range#range)) to do this in one line of code. Just make the returned result is a list.*"
   ]
  },
  {
   "cell_type": "code",
   "execution_count": 9,
   "metadata": {},
   "outputs": [],
   "source": [
    "# Replace None with appropriate code\n",
    "def get_offsets(total) -> list:\n",
    "    \"\"\"\n",
    "    Get a list of offsets needed to get all pages\n",
    "    of data up until the total\n",
    "    \"\"\"\n",
    "    offsets = list(range(0, total, 50))\n",
    "    \n",
    "    return offsets"
   ]
  },
  {
   "cell_type": "markdown",
   "metadata": {},
   "source": [
    "Check that your function works below:"
   ]
  },
  {
   "cell_type": "code",
   "execution_count": 10,
   "metadata": {},
   "outputs": [],
   "source": [
    "# Run this cell without changes\n",
    "\n",
    "assert get_offsets(200) == [0, 50, 100, 150]\n",
    "assert get_offsets(210) == [0, 50, 100, 150, 200]"
   ]
  },
  {
   "cell_type": "markdown",
   "metadata": {},
   "source": [
    "### Putting It All Together\n",
    "\n",
    "Recall that the following variable has already been declared for you:"
   ]
  },
  {
   "cell_type": "code",
   "execution_count": 11,
   "metadata": {},
   "outputs": [
    {
     "data": {
      "text/plain": [
       "{'term': 'pizza', 'location': 'California+CA'}"
      ]
     },
     "execution_count": 11,
     "metadata": {},
     "output_type": "execute_result"
    }
   ],
   "source": [
    "# Run this cell without changes\n",
    "url_params"
   ]
  },
  {
   "cell_type": "markdown",
   "metadata": {},
   "source": [
    "We'll go ahead and also specify that the limit should be 50 every time:"
   ]
  },
  {
   "cell_type": "code",
   "execution_count": 12,
   "metadata": {},
   "outputs": [],
   "source": [
    "# Run this cell without changes\n",
    "url_params[\"limit\"] = 50"
   ]
  },
  {
   "cell_type": "markdown",
   "metadata": {},
   "source": [
    "In order to modify the offset, you'll need to add it to `url_params` with the key `\"offset\"` and whatever value is needed.\n",
    "\n",
    "In the cell below, write code that:\n",
    "\n",
    "* Creates an empty list for the full prepared dataset\n",
    "* Loops over all of the offsets from `get_offsets` and makes an API call each time with the specified offset\n",
    "* Calls `prepare_data` to get a cleaned version of the result of each API call\n",
    "* Extends the full prepared dataset list with each query's prepared dataset"
   ]
  },
  {
   "cell_type": "code",
   "execution_count": 13,
   "metadata": {},
   "outputs": [
    {
     "data": {
      "text/plain": [
       "494"
      ]
     },
     "execution_count": 13,
     "metadata": {},
     "output_type": "execute_result"
    }
   ],
   "source": [
    "# Replace None with appropriate code\n",
    "\n",
    "# Create an empty list for the full prepared dataset\n",
    "full_dataset = []\n",
    "\n",
    "for offset in get_offsets(total):\n",
    "    # Add or update the \"offset\" key-value pair in url_params\n",
    "    url_params['offset'] = offset\n",
    "    \n",
    "    # Make the query and get the response\n",
    "    response = requests.get(url, headers=headers, params=url_params)\n",
    "    \n",
    "    # Get the response body in JSON format\n",
    "    response_json = response.json()\n",
    "    \n",
    "    # Get the list of businesses from the response_json\n",
    "    businesses = response_json['businesses']\n",
    "    \n",
    "    # Call the prepare_data function to get a list of processed data\n",
    "    prepared_businesses = prepare_data(businesses)\n",
    "    \n",
    "    # Extend full_dataset with this list (don't append, or you'll get\n",
    "    # a list of lists instead of a flat list)\n",
    "    full_dataset.extend(prepared_businesses)\n",
    "\n",
    "# Check the length of the full dataset. It will be up to `total`,\n",
    "# potentially less if there were missing values\n",
    "len(full_dataset)"
   ]
  },
  {
   "cell_type": "markdown",
   "metadata": {},
   "source": [
    "This code may take up to a few minutes to run.\n",
    "\n",
    "If you get an error trying to get the response body in JSON format, try adding `time.sleep(1)` right after the `requests.get` line, so your code will sleep for 1 second between each API call."
   ]
  },
  {
   "cell_type": "markdown",
   "metadata": {},
   "source": [
    "## 3. Perform Exploratory Analysis\n",
    "\n",
    "Take the businesses from the previous question and do an initial exploratory analysis. We have provided some plots for you to interpret:"
   ]
  },
  {
   "cell_type": "code",
   "execution_count": 14,
   "metadata": {},
   "outputs": [
    {
     "data": {
      "image/png": "[encoded data removed]",
      "text/plain": [
       "<Figure size 1152x360 with 3 Axes>"
      ]
     },
     "metadata": {
      "needs_background": "light"
     },
     "output_type": "display_data"
    }
   ],
   "source": [
    "# Run this cell without changes\n",
    "from collections import Counter\n",
    "import matplotlib.pyplot as plt\n",
    "%matplotlib inline\n",
    "\n",
    "fig, (ax1, ax2, ax3) = plt.subplots(ncols=3, figsize=(16, 5))\n",
    "\n",
    "# Plot distribution of number of reviews\n",
    "all_review_counts = [x[\"review_count\"] for x in full_dataset]\n",
    "ax1.hist(all_review_counts)\n",
    "ax1.set_title(\"Review Count Distribution\")\n",
    "ax1.set_xlabel(\"Number of Reviews\")\n",
    "ax1.set_ylabel(\"Number of Businesses\")\n",
    "\n",
    "# Plot rating distribution\n",
    "all_ratings = [x[\"rating\"] for x in full_dataset]\n",
    "rating_counter = Counter(all_ratings)\n",
    "rating_keys = sorted(rating_counter.keys())\n",
    "ax2.bar(rating_keys, [rating_counter[key] for key in rating_keys])\n",
    "ax2.set_title(\"Rating Distribution\")\n",
    "ax2.set_xlabel(\"Rating\")\n",
    "ax2.set_ylabel(\"Number of Businesses\")\n",
    "\n",
    "# Plot price distribution\n",
    "all_prices = [x[\"price\"].replace(\"$\", r\"\\$\") for x in full_dataset]\n",
    "price_counter = Counter(all_prices)\n",
    "price_keys = sorted(price_counter.keys())\n",
    "ax3.bar(price_keys, [price_counter[key] for key in price_keys])\n",
    "ax3.set_title(\"Price Distribution\")\n",
    "ax3.set_xlabel(\"Price Category\")\n",
    "ax3.set_ylabel(\"Number of Businesses\");"
   ]
  },
  {
   "cell_type": "markdown",
   "metadata": {},
   "source": [
    "Describe the distributions displayed above and interpret them in the context of your query. (Your answer may differ from the solution branch depending on your query.)"
   ]
  },
  {
   "cell_type": "code",
   "execution_count": 15,
   "metadata": {},
   "outputs": [
    {
     "data": {
      "text/plain": [
       "'\\nNone\\n'"
      ]
     },
     "execution_count": 15,
     "metadata": {},
     "output_type": "execute_result"
    }
   ],
   "source": [
    "# Replace None with appropriate text\n",
    "\"\"\"\n",
    "None\n",
    "\"\"\""
   ]
  },
  {
   "cell_type": "markdown",
   "metadata": {},
   "source": [
    "In the cell below, we also plot the rating distributions by price. In this setup, a price of one dollar sign is \"lower price\" and everything else is \"higher price\"."
   ]
  },
  {
   "cell_type": "code",
   "execution_count": 16,
   "metadata": {},
   "outputs": [
    {
     "data": {
      "image/png": "[encoded data removed]",
      "text/plain": [
       "<Figure size 432x288 with 1 Axes>"
      ]
     },
     "metadata": {
      "needs_background": "light"
     },
     "output_type": "display_data"
    }
   ],
   "source": [
    "# Run this cell without changes\n",
    "\n",
    "higher_price = []\n",
    "lower_price = []\n",
    "for row in full_dataset:\n",
    "    if row[\"price\"] == \"$\":\n",
    "        lower_price.append(row[\"rating\"])\n",
    "    else:\n",
    "        higher_price.append(row[\"rating\"])\n",
    "        \n",
    "fig, ax = plt.subplots()\n",
    "\n",
    "ax.hist([higher_price, lower_price], label=[\"higher price\", \"lower price\"], density=True)\n",
    "\n",
    "ax.legend();"
   ]
  },
  {
   "cell_type": "markdown",
   "metadata": {},
   "source": [
    "Is a higher price associated with a higher rating? (No need for any additional math/statistics, just interpret what you see in the plot.)"
   ]
  },
  {
   "cell_type": "code",
   "execution_count": 17,
   "metadata": {},
   "outputs": [
    {
     "data": {
      "text/plain": [
       "'\\nNone\\n'"
      ]
     },
     "execution_count": 17,
     "metadata": {},
     "output_type": "execute_result"
    }
   ],
   "source": [
    "# Replace None with appropriate text\n",
    "\"\"\"\n",
    "None\n",
    "\"\"\""
   ]
  },
  {
   "cell_type": "markdown",
   "metadata": {},
   "source": [
    "Finally, let's look at ratings vs. review counts:"
   ]
  },
  {
   "cell_type": "code",
   "execution_count": 18,
   "metadata": {},
   "outputs": [
    {
     "data": {
      "image/png": "[encoded data removed]",
      "text/plain": [
       "<Figure size 1152x360 with 1 Axes>"
      ]
     },
     "metadata": {
      "needs_background": "light"
     },
     "output_type": "display_data"
    }
   ],
   "source": [
    "# Run this cell without changes\n",
    "fig, ax = plt.subplots(figsize=(16,5))\n",
    "\n",
    "ax.scatter(all_review_counts, all_ratings, alpha=0.4)\n",
    "ax.set_xlabel(\"Number of Reviews\")\n",
    "ax.set_ylabel(\"Rating\")\n",
    "# \"zoom in\" to a subset of review counts\n",
    "ax.set_xlim(left=0, right=1000);"
   ]
  },
  {
   "cell_type": "markdown",
   "metadata": {},
   "source": [
    "Is a higher number of reviews associated with a higher rating?"
   ]
  },
  {
   "cell_type": "code",
   "execution_count": 19,
   "metadata": {},
   "outputs": [
    {
     "data": {
      "text/plain": [
       "'\\nNone\\n'"
      ]
     },
     "execution_count": 19,
     "metadata": {},
     "output_type": "execute_result"
    }
   ],
   "source": [
    "# Replace None with appropriate text\n",
    "\"\"\"\n",
    "None\n",
    "\"\"\""
   ]
  },
  {
   "cell_type": "markdown",
   "metadata": {},
   "source": [
    "## 4. Create a Folium Map\n",
    "\n",
    "Make a map using Folium of the businesses you retrieved. Be sure to also add popups to the markers giving some basic information such as name, rating and price.\n",
    "\n",
    "You can center the map around the latitude and longitude of the first item in `full_dataset`."
   ]
  },
  {
   "cell_type": "code",
   "execution_count": 24,
   "metadata": {},
   "outputs": [
    {
     "data": {
      "text/plain": [
       "{'center': {'longitude': -119.3060302734375, 'latitude': 37.26682643661537}}"
      ]
     },
     "execution_count": 24,
     "metadata": {},
     "output_type": "execute_result"
    }
   ],
   "source": [
    "response_json['region']"
   ]
  },
  {
   "cell_type": "code",
   "execution_count": 26,
   "metadata": {},
   "outputs": [
    {
     "data": {
      "text/html": [
       "<div style=\"width:100%;\"><div style=\"position:relative;width:100%;height:0;padding-bottom:60%;\"><span style=\"color:#565656\">Make this Notebook Trusted to load map: File -> Trust Notebook</span><iframe src=\"about:blank\" style=\"position:absolute;width:100%;height:100%;left:0;top:0;border:none !important;\" data-html=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 onload=\"this.contentDocument.open();this.contentDocument.write(atob(this.getAttribute('data-html')));this.contentDocument.close();\" allowfullscreen webkitallowfullscreen mozallowfullscreen></iframe></div></div>"
      ],
      "text/plain": [
       "<folium.folium.Map at 0x13f78ea47f0>"
      ]
     },
     "execution_count": 26,
     "metadata": {},
     "output_type": "execute_result"
    }
   ],
   "source": [
    "# Replace None with appropriate code\n",
    "\n",
    "# Import the library\n",
    "import folium\n",
    "\n",
    "# Set up center latitude and longitude\n",
    "center_lat = response_json['region']['center']['latitude']\n",
    "center_long = response_json['region']['center']['longitude']\n",
    "\n",
    "# Initialize map with center lat and long\n",
    "yelp_map = folium.Map([center_lat, center_long], zoom_start=10)\n",
    "\n",
    "# Adjust this limit to see more or fewer businesses\n",
    "limit=100\n",
    "\n",
    "for business in full_dataset[:limit]:\n",
    "    # Extract information about business\n",
    "    lat = business['latitude']\n",
    "    long = business['longitude']\n",
    "    name = business['name']\n",
    "    rating = business['rating']\n",
    "    price = business['price']\n",
    "    details = \"{}\\nPrice: {} Rating:{}\".format(name,price,rating)\n",
    "    \n",
    "    # Create popup with relevant details\n",
    "    popup = folium.Popup(details, parse_html=True)\n",
    "    \n",
    "    # Create marker with relevant lat/long and popup\n",
    "    marker = folium.Marker(location=[lat, long], popup=popup)\n",
    "    \n",
    "    marker.add_to(yelp_map)\n",
    "    \n",
    "yelp_map"
   ]
  },
  {
   "cell_type": "markdown",
   "metadata": {},
   "source": [
    "## Summary\n",
    "\n",
    "Nice work! In this lab, you've made multiple API calls to Yelp in order to paginate through a results set, performing some basic exploratory analysis and then creating a nice interactive map to display the results using Folium! Well done!"
   ]
  }
 ],
 "metadata": {
  "kernelspec": {
   "display_name": "Python 3",
   "language": "python",
   "name": "python3"
  },
  "language_info": {
   "codemirror_mode": {
    "name": "ipython",
    "version": 3
   },
   "file_extension": ".py",
   "mimetype": "text/x-python",
   "name": "python",
   "nbconvert_exporter": "python",
   "pygments_lexer": "ipython3",
   "version": "3.8.5"
  },
  "toc": {
   "base_numbering": 1,
   "nav_menu": {},
   "number_sections": true,
   "sideBar": true,
   "skip_h1_title": false,
   "title_cell": "Table of Contents",
   "title_sidebar": "Contents",
   "toc_cell": false,
   "toc_position": {},
   "toc_section_display": true,
   "toc_window_display": false
  }
 },
 "nbformat": 4,
 "nbformat_minor": 2
}
